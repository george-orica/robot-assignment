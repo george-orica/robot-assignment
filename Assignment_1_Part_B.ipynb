{
 "cells": [
  {
   "cell_type": "markdown",
   "id": "eff76990-0797-4508-b51f-fba694fff960",
   "metadata": {
    "editable": false,
    "tags": []
   },
   "source": [
    "# EGD103 Assignment 1 - The Harvesting Robot\n",
    "In this assignment, you will be applying some tasks involving the programming of a small robot that moves in 2D space. The project is inspired by harvesting robots which are becoming increasingly popular in agricultural applications.\n",
    "\n",
    "\n",
    "<img style=\"display: block; margin: 0 auto\" width=\"400\" src=https://howtorobot.com/sites/default/files/2023-03/shutterstock_1995250223.jpg>\n",
    "<p style=\"text-align: center;\"> Source: https://howtorobot.com/expert-insight/harvesting-robots </p>\n",
    "\n",
    "  \n",
    "In order to simplify this programming project, we have placed some restrictions on the robot's motion. The robot is limited to moving one tile on the grid at a time and is limited to moving in four directions: up, down, left and right. Objects can only be placed on grid tiles and can only be collected when the robot is on the same tile as the object.\n",
    "\n",
    "This assignment is split into two parts:\n",
    "* **Part A (6%)** is contained in this template and is due Friday week 2.\n",
    "* **Part B (24%)** will be released in week 3 and is due Friday week 5."
   ]
  },
  {
   "cell_type": "markdown",
   "id": "6d5bb984-02aa-458e-b83f-0308ee7a4078",
   "metadata": {
    "editable": false,
    "tags": []
   },
   "source": [
    "***\n",
    "## Part A: Simple Functions\n",
    "In this section you will be create some simple user-defined functions for the robot. No imports are needed to complete these questions - they can be solved with base Python.\n",
    "\n",
    "For this assignment we will represent position vectors in Python as 2-element tuples. For example, the tuple <code>(5, 2)</code> would represent the position 5 units along the x-axis and 2 units up the y-axis. \n",
    "\n",
    "An important note about Python tuples is that mathematical operators aren't supported. For example, <code>(3, 1) + (0, 1)</code> will not result in the tuple <code>(3, 2)</code>. To operate on the position tuples we will need to create our own user-defined functions. The examples in 1.1 and 1.2 serve as a guide on the basic principles on tuples and user-defined functions that are required to complete Part A."
   ]
  },
  {
   "cell_type": "markdown",
   "id": "34c1d42a-9fca-4229-928d-acac6701d506",
   "metadata": {
    "editable": false,
    "tags": []
   },
   "source": [
    "### 1.1 Move up\n",
    "One useful function for our robot is having the ability to move up. This can be done by increasing the y component of the position tuple by 1. This function has already been implemented for you as an example of how you can work with tuples throughout the assignment."
   ]
  },
  {
   "cell_type": "code",
   "execution_count": 5,
   "id": "7efd0974-fdac-47a6-b810-26abe7985669",
   "metadata": {
    "editable": false,
    "tags": []
   },
   "outputs": [],
   "source": [
    "# This has been implemented for you. Do not change it.\n",
    "def move_up(old_position):\n",
    "    (x, y) = old_position # extract x and y components from position tuple\n",
    "    new_position = (x, y + 1) # new position tuple has a y component 1 value higher than before\n",
    "    return new_position"
   ]
  },
  {
   "cell_type": "code",
   "execution_count": 6,
   "id": "4bfe6598-6806-4fc2-8613-5b2c2261301a",
   "metadata": {
    "editable": false,
    "tags": []
   },
   "outputs": [
    {
     "data": {
      "text/plain": [
       "(2, 2)"
      ]
     },
     "execution_count": 6,
     "metadata": {},
     "output_type": "execute_result"
    }
   ],
   "source": [
    "# test case - should return (2, 2)\n",
    "move_up((2,1))"
   ]
  },
  {
   "cell_type": "markdown",
   "id": "70fe9a00-e131-46e6-a581-c99c41622eb7",
   "metadata": {
    "editable": false,
    "tags": []
   },
   "source": [
    "### 1.2 Move down\n",
    "We would also like our robot to be able to move down. This can be done by decreasing the y component of the position tuple by 1. Again, this function has already been implemented for you."
   ]
  },
  {
   "cell_type": "code",
   "execution_count": 7,
   "id": "e2baf265-443c-4eda-a061-b64f1a0987d0",
   "metadata": {
    "editable": false,
    "tags": []
   },
   "outputs": [],
   "source": [
    "# this has been implemented for you. Do not change it.\n",
    "def move_down(old_position):\n",
    "    (x, y) = old_position\n",
    "    new_position = (x, y - 1)\n",
    "    return new_position"
   ]
  },
  {
   "cell_type": "code",
   "execution_count": 8,
   "id": "0c902017-9dfd-431d-af55-a71a039c0b76",
   "metadata": {
    "editable": false,
    "tags": []
   },
   "outputs": [
    {
     "data": {
      "text/plain": [
       "(2, 0)"
      ]
     },
     "execution_count": 8,
     "metadata": {},
     "output_type": "execute_result"
    }
   ],
   "source": [
    "# test case - should return (2,0)\n",
    "move_down((2,1)) "
   ]
  },
  {
   "cell_type": "markdown",
   "id": "41f0b259-6682-42ae-b5a0-da239fcc6f41",
   "metadata": {
    "editable": false,
    "tags": []
   },
   "source": [
    "### 1.3 Move right (1 mark)\n",
    "Next, we would like our robot to be able to move to the right. This can be done by increasing the x component of the position tuple by 1. You will have to implement this solution yourself! Replace the pass statement provided with your own solution. Hint: the previous two examples should help.\n",
    "\n",
    "<div style=\"color:#990000\"><b>Task:</b> Create a function that accepts a position tuple and outputs the updated position tuple after moving one element to the right. Run is against the test case to ensure it is working correctly."
   ]
  },
  {
   "cell_type": "code",
   "execution_count": 9,
   "id": "3a425709-b7ae-45cc-9091-2da133450ee6",
   "metadata": {
    "tags": []
   },
   "outputs": [],
   "source": [
    "def move_right(old_position):\n",
    "    (x, y) = old_position\n",
    "    new_position = (x + 1, y)\n",
    "    return new_position"
   ]
  },
  {
   "cell_type": "code",
   "execution_count": 10,
   "id": "b61854d1-a637-4159-8eb6-c9a7641ceb4a",
   "metadata": {
    "editable": false,
    "tags": []
   },
   "outputs": [
    {
     "data": {
      "text/plain": [
       "(3, 1)"
      ]
     },
     "execution_count": 10,
     "metadata": {},
     "output_type": "execute_result"
    }
   ],
   "source": [
    "# test case - should return (3,1)\n",
    "move_right((2,1)) "
   ]
  },
  {
   "cell_type": "code",
   "execution_count": 11,
   "id": "363527b8-3aa6-4479-8437-62a9542e73d4",
   "metadata": {
    "editable": false,
    "tags": []
   },
   "outputs": [
    {
     "data": {
      "text/plain": [
       "(6, 4)"
      ]
     },
     "execution_count": 11,
     "metadata": {},
     "output_type": "execute_result"
    }
   ],
   "source": [
    "# test case - should return (6,4)\n",
    "move_right((5,4)) "
   ]
  },
  {
   "cell_type": "markdown",
   "id": "c4b5ed38-26d2-4285-b581-14d10037462a",
   "metadata": {
    "editable": false,
    "tags": []
   },
   "source": [
    "### 1.4 Move left (1 mark)\n",
    "The final movement option for the robot is to move left. This can be done by decreasing the x component of the position tuple by 1. \n",
    "\n",
    "<div style=\"color:#990000\"><b>Task:</b> Create a function that accepts a position tuple and outputs the updated position tuple after moving one element to the left. Run is against the test case to ensure it is working correctly."
   ]
  },
  {
   "cell_type": "code",
   "execution_count": 12,
   "id": "4860ba0b-73d2-47e9-8834-1c8c5da291c9",
   "metadata": {},
   "outputs": [],
   "source": [
    "def move_left(old_position):\n",
    "    (x, y) = old_position\n",
    "    new_position = (x - 1, y)\n",
    "    return new_position"
   ]
  },
  {
   "cell_type": "code",
   "execution_count": 13,
   "id": "e9be1a8a-3a78-4432-8fc6-0ab38156394e",
   "metadata": {
    "editable": false,
    "tags": []
   },
   "outputs": [
    {
     "data": {
      "text/plain": [
       "(1, 1)"
      ]
     },
     "execution_count": 13,
     "metadata": {},
     "output_type": "execute_result"
    }
   ],
   "source": [
    "# test case - should return (1,1)\n",
    "move_left((2, 1)) "
   ]
  },
  {
   "cell_type": "code",
   "execution_count": 14,
   "id": "f3f3f822-c802-4293-81da-35bebef25818",
   "metadata": {
    "editable": false,
    "tags": []
   },
   "outputs": [
    {
     "data": {
      "text/plain": [
       "(2, 7)"
      ]
     },
     "execution_count": 14,
     "metadata": {},
     "output_type": "execute_result"
    }
   ],
   "source": [
    "# test case - should return (2, 7)\n",
    "move_left((3, 7)) "
   ]
  },
  {
   "cell_type": "markdown",
   "id": "b60a7d86-b342-4b25-9b2c-4dfccb948f4b",
   "metadata": {
    "editable": false,
    "tags": []
   },
   "source": [
    "### 1.5 Computing displacement (1 mark)\n",
    "In order to find each object on the board, you will need to compute the displacement between each object and the robot. This can be performed through vector subtraction:\n",
    "$$\\vec{AB} = \\vec{b} - \\vec{a} = \\begin{bmatrix}b_x - a_x\\\\b_y - a_y\\end{bmatrix} $$\n",
    "where:\n",
    "* $\\vec{AB}$ is the displacement vector that points from object A to object B\n",
    "* $\\vec{b}$ is the position vector for object B\n",
    "* $\\vec{a}$ is the position vector for object A\n",
    "\n",
    "<div style=\"color:#990000\"><b>Task:</b> Create a function that accepts two input position tuples: one for the robot and one for the object to be collected. The function should return a tuple of the displacement vector that points from the robot to the object."
   ]
  },
  {
   "cell_type": "code",
   "execution_count": 15,
   "id": "e24d3352-aef3-4fff-98a4-2049b83a9321",
   "metadata": {
    "tags": []
   },
   "outputs": [],
   "source": [
    "def compute_object_displacement(robot_position, object_position):\n",
    "    (xr, yr) = robot_position\n",
    "    (xo, yo) = object_position\n",
    "    displacement = (xo - xr, yo - yr)\n",
    "    return displacement"
   ]
  },
  {
   "cell_type": "code",
   "execution_count": 16,
   "id": "1f75f966-c0c9-4dec-be28-1c25ca208670",
   "metadata": {
    "editable": false,
    "tags": []
   },
   "outputs": [
    {
     "data": {
      "text/plain": [
       "(2, 4)"
      ]
     },
     "execution_count": 16,
     "metadata": {},
     "output_type": "execute_result"
    }
   ],
   "source": [
    "# test case 1 - should return (2, 4)\n",
    "compute_object_displacement((1, 2), (3, 6))"
   ]
  },
  {
   "cell_type": "code",
   "execution_count": 17,
   "id": "8cb3cd52-69bc-4cde-824c-142fd48c700b",
   "metadata": {
    "editable": false,
    "tags": []
   },
   "outputs": [
    {
     "data": {
      "text/plain": [
       "(2, -9)"
      ]
     },
     "execution_count": 17,
     "metadata": {},
     "output_type": "execute_result"
    }
   ],
   "source": [
    "# test case 2 - should return (2, -9)\n",
    "compute_object_displacement((-2, 4), (0, -5))"
   ]
  },
  {
   "cell_type": "markdown",
   "id": "a5ae01a1-1e45-43d9-9749-1186ce6adaf4",
   "metadata": {
    "editable": false,
    "tags": []
   },
   "source": [
    "### 1.6 Computing distance (1 mark)\n",
    "A simple way to ensure the robot collects objects efficiently is to always collect the object that is nearest to the robot. Since the robot can only move up, down, left or right, we can not use standard Euclidean distance as a measure. Instead, we need to use $L_1$ distance (also commonly known as taxicab or Manhattan distance), which is given by:\n",
    "$$ d(\\vec{a},\\vec{b}) = |b_x - a_x| + |b_y - a_y|$$\n",
    "where $d(\\vec{a},\\vec{b})$ is the distance between objects at position $\\vec{a}$ and position $\\vec{b}$\n",
    "\n",
    "More information can be found here if needed: https://en.wikipedia.org/wiki/Taxicab_geometry\n",
    "\n",
    "<div style=\"color:#990000\"><b>Task:</b> Create a function that accepts two input position tuples: one for the robot and one for the object to be collected. The function should return the L1 distance between the two objects."
   ]
  },
  {
   "cell_type": "code",
   "execution_count": 18,
   "id": "a2cf4b35-a69d-47e0-a0de-c02a4f1b49a9",
   "metadata": {
    "tags": []
   },
   "outputs": [],
   "source": [
    "def compute_L1_distance(robot_position, object_position):\n",
    "    (xr, yr) = robot_position\n",
    "    (xo, yo) = object_position\n",
    "    distance = abs(xo - xr) + abs(yo - yr)\n",
    "    return distance"
   ]
  },
  {
   "cell_type": "code",
   "execution_count": 19,
   "id": "271956f4-77db-40bd-9015-5ac6b8027a16",
   "metadata": {
    "editable": false,
    "tags": []
   },
   "outputs": [
    {
     "data": {
      "text/plain": [
       "6"
      ]
     },
     "execution_count": 19,
     "metadata": {},
     "output_type": "execute_result"
    }
   ],
   "source": [
    "# test case 1 - should return 6\n",
    "compute_L1_distance((1, 2), (3, 6))"
   ]
  },
  {
   "cell_type": "code",
   "execution_count": 20,
   "id": "268c7408-ca02-409d-ad3f-0701aa2010e0",
   "metadata": {
    "editable": false,
    "tags": []
   },
   "outputs": [
    {
     "data": {
      "text/plain": [
       "5"
      ]
     },
     "execution_count": 20,
     "metadata": {},
     "output_type": "execute_result"
    }
   ],
   "source": [
    "# test case 2 - should return 5\n",
    "compute_L1_distance((1, 2), (-2, 4))"
   ]
  },
  {
   "cell_type": "markdown",
   "id": "b8ef84f2-e68b-460f-8b7e-bb8ac1e73126",
   "metadata": {
    "editable": false,
    "tags": []
   },
   "source": [
    "### 1.7 Moving the robot towards target object (2 marks)\n",
    "Once the robot has identified the location of an object, in must then move towards it. You should do this with the following algorithm:\n",
    "1. Compute the displacement $\\vec{d}$ from the robot to the target object.\n",
    "2. Based on the displacement vector, you need to specify whether to move up, down, left or right. In the event the robot needs to move horizontally and vertically, it should choose the vertical option. Since you are selecting between different options, you should be utilising an if statement.\n",
    "3. Return the new position tuple of the robot after moving one tile towards the object. If the robot and object have the same position, the function should return <code>None</code>.\n",
    "\n",
    "Hint: You have already defined many of the tasks required for this problem. Call your user-defined functions from sections 1.1-1.6 to simplify this task.\n",
    "\n",
    "<div style=\"color:#990000\"><b>Task:</b> Create a function with two arguments: a robot position tuple and an object position tuple. The function should return the robot position tuple after moving one unit towards the target object, according to the algorithm described above."
   ]
  },
  {
   "cell_type": "code",
   "execution_count": 21,
   "id": "d93b9fe6-86a8-4fd0-a4fe-6a047def8c16",
   "metadata": {},
   "outputs": [],
   "source": [
    "def move_robot(robot_position, object_position):\n",
    "    displacement = compute_object_displacement(robot_position, object_position)\n",
    "    (x, y) = displacement\n",
    "    if y > 0:\n",
    "        return move_up(robot_position)\n",
    "    elif y < 0:\n",
    "        return move_down(robot_position)\n",
    "    elif x > 0:\n",
    "        return move_right(robot_position)\n",
    "    elif x < 0:\n",
    "        return move_left(robot_position)"
   ]
  },
  {
   "cell_type": "code",
   "execution_count": 22,
   "id": "df5b53f0-7b32-4763-a9da-78f699d5543e",
   "metadata": {
    "editable": false,
    "tags": []
   },
   "outputs": [
    {
     "data": {
      "text/plain": [
       "(4, 3)"
      ]
     },
     "execution_count": 22,
     "metadata": {},
     "output_type": "execute_result"
    }
   ],
   "source": [
    "# test case 1 - should return (4, 3) \n",
    "move_robot((4, 2), (4, 8))"
   ]
  },
  {
   "cell_type": "code",
   "execution_count": 23,
   "id": "c08daf39-b096-4d17-9598-0f2bf3d33720",
   "metadata": {
    "editable": false,
    "tags": []
   },
   "outputs": [
    {
     "data": {
      "text/plain": [
       "(6, 6)"
      ]
     },
     "execution_count": 23,
     "metadata": {},
     "output_type": "execute_result"
    }
   ],
   "source": [
    "# test case 2 - should return (6, 6) \n",
    "move_robot((7, 6), (2, 6))"
   ]
  },
  {
   "cell_type": "code",
   "execution_count": 24,
   "id": "6f44eac1-a0f7-47d5-8b55-8655c29b71cf",
   "metadata": {
    "editable": false,
    "tags": []
   },
   "outputs": [
    {
     "data": {
      "text/plain": [
       "(0, 1)"
      ]
     },
     "execution_count": 24,
     "metadata": {},
     "output_type": "execute_result"
    }
   ],
   "source": [
    "# test case 3 - should return (0, 1)\n",
    "move_robot((0, 0), (5, 7))"
   ]
  },
  {
   "cell_type": "code",
   "execution_count": 25,
   "id": "2f241a31-5242-48be-a030-0bbce4bf4690",
   "metadata": {
    "editable": false,
    "tags": []
   },
   "outputs": [
    {
     "data": {
      "text/plain": [
       "(8, 6)"
      ]
     },
     "execution_count": 25,
     "metadata": {},
     "output_type": "execute_result"
    }
   ],
   "source": [
    "# test case 4 - should return (8, 6) \n",
    "move_robot((8, 7), (5, 1))"
   ]
  },
  {
   "cell_type": "code",
   "execution_count": 26,
   "id": "87f704a1-7adf-4689-9277-5bcc94598916",
   "metadata": {
    "editable": false,
    "tags": []
   },
   "outputs": [],
   "source": [
    "# test case 5 - should return None\n",
    "move_robot((9, 2), (9, 2))"
   ]
  },
  {
   "cell_type": "markdown",
   "id": "bfea5bc3-8f27-4aa7-8a63-839ad7b19576",
   "metadata": {
    "editable": false,
    "tags": []
   },
   "source": [
    "***\n",
    "## Part B: Collecting Objects\n",
    "In this section of the assignment you will be moving the robot to collect objects. The process will be animated so you can visualise this process. The functions you created from Part A will be very useful, so call those functions when needed. For example, if a problem in Part B requires you to move the robot, you should call the <code>move_robot</code> function.\n",
    "\n",
    "The object positions will be represented as a list of (x, y) tuples. The function provided in 2.1 will generate the object_positions list for you. Eventually when you collect objects, the robot will do so in the same order they appear in the list. Initially this will lead to very inefficient collection of objects since this object sequence is randomly generated. Later in the assignment you will investigate sorting this list into a more efficient order."
   ]
  },
  {
   "cell_type": "markdown",
   "id": "a55a4a7e-3446-44ce-b008-d3b4e3d351b0",
   "metadata": {
    "editable": false,
    "tags": []
   },
   "source": [
    "### 2.1 Initialising Object Positions and Robot Position\n",
    "In order to simulate the robot collecting objects, we will need to initialise where the robot starts and where all the objects are initially. The function provided below returns these values for you. It is programmed to place the robot and all the objects on a 100 x 100 tile board such that none of the object are placed in the same location. All object positions are placed in a list, where the order of elements represents the order they will be collected in.\n",
    "\n",
    "The <code>initialise_positions</code> function contains three arguments:\n",
    "* <code>rng_seed</code> which is an integer. Changing this will change the initial positions of the objects and the robot.\n",
    "* <code>sort</code> which specifies whether to sort the object_positions in some order. The default is not to sort. Later in the assignment you will investigate sorting into a more efficient order.\n",
    "* <code>visualise</code> which specifies whether to plot the object and robot positions. We will utilise this feature in this section, but will ignore it later on."
   ]
  },
  {
   "cell_type": "code",
   "execution_count": 27,
   "id": "1dfd0058-1db3-4824-b4a2-2feec1fdfeb8",
   "metadata": {
    "editable": false,
    "tags": []
   },
   "outputs": [],
   "source": [
    "# this code is provided for you - do not change it\n",
    "def initialise_positions(rng_seed, sort=False, visualise=False):\n",
    "    # importing random module and setting rng_seed\n",
    "    import random\n",
    "    random.seed(rng_seed)\n",
    "\n",
    "    # creating object positions list\n",
    "    object_positions = set()\n",
    "    while len(object_positions) < 10:\n",
    "        x = random.randint(0, 99)\n",
    "        y = random.randint(0, 99)\n",
    "        object_positions.add((x, y))\n",
    "    object_positions = list(object_positions)\n",
    "\n",
    "    # randomly initialising robot position\n",
    "    while True:\n",
    "        x = random.randint(0, 99)\n",
    "        y = random.randint(0, 99)\n",
    "        robot_position = (x, y)\n",
    "        if robot_position not in object_positions:\n",
    "            break\n",
    "\n",
    "    # sort positions if needed (relevant later in assignment)\n",
    "    if sort:\n",
    "       object_positions = sort_object_positions(robot_position, object_positions)\n",
    "    \n",
    "    # visualise board\n",
    "    if visualise:\n",
    "        import matplotlib.pyplot as plt\n",
    "        fig, ax = plt.subplots()\n",
    "        object_x_coordinates = [ x for (x,y) in object_positions ]\n",
    "        object_y_coordinates = [ y for (x,y) in object_positions ]\n",
    "        scat = ax.scatter(robot_position[0], robot_position[1], c = \"b\")\n",
    "        scat2 = ax.scatter(object_x_coordinates, object_y_coordinates, c = \"r\", marker = '*')\n",
    "        ax.set_xlim(-0.5, 99.5)\n",
    "        ax.set_ylim(-0.5, 99.5)\n",
    "        ax.set_xlabel('x-coordinate')\n",
    "        ax.set_ylabel('y-coordinate')\n",
    "        ax.set_title('Initial robot and object positions')\n",
    "    \n",
    "    return robot_position, object_positions"
   ]
  },
  {
   "cell_type": "code",
   "execution_count": 28,
   "id": "5b1a4176-4214-4dcc-9e3c-47c69f900215",
   "metadata": {
    "editable": false,
    "tags": []
   },
   "outputs": [
    {
     "data": {
      "image/png": "[encoded data removed]",
      "text/plain": [
       "<Figure size 640x480 with 1 Axes>"
      ]
     },
     "metadata": {},
     "output_type": "display_data"
    }
   ],
   "source": [
    "# board created with a seed of 1\n",
    "robot_position, object_positions = initialise_positions(1, visualise=True)"
   ]
  },
  {
   "cell_type": "code",
   "execution_count": 29,
   "id": "42764e23-1342-4c34-8cb4-e797b6f6c473",
   "metadata": {
    "editable": false,
    "tags": []
   },
   "outputs": [
    {
     "data": {
      "image/png": "[encoded data removed]",
      "text/plain": [
       "<Figure size 640x480 with 1 Axes>"
      ]
     },
     "metadata": {},
     "output_type": "display_data"
    }
   ],
   "source": [
    "# board created with a seed of 2\n",
    "robot_position, object_positions = initialise_positions(2, visualise=True)"
   ]
  },
  {
   "cell_type": "markdown",
   "id": "93fe05b0-a3f9-404f-8037-919fcc292ebe",
   "metadata": {
    "editable": false,
    "tags": []
   },
   "source": [
    "### 2.2 Collecting an object (1 mark)\n",
    "Once the robot is at the same location as the object, it will need to collect the object. This can be done by removing the robot's position from the object positions list. \n",
    "\n",
    "The function should return a new object positions list. Be careful not to update the object positions list in place (see test case 2), otherwise the function won't work properly when simulating the robot in Part 2.4 of the assignment. If your solution does update in place, consider using the copy method to create a copy of the object positions list before removing anything from it.\n",
    "\n",
    "In the event the robot's position does not appear in the object positions list, the function should raise an exception.\n",
    "\n",
    "<div style=\"color:#990000\"><b>Task:</b> Create a function below that accepts two inputs: a robot position tuple and a list of object position tuples. It should output an updated list of object positions after the robot has collected the object at its current position.\n"
   ]
  },
  {
   "cell_type": "code",
   "execution_count": 60,
   "id": "6d53d8c1-5f95-4bcf-9ff7-b7d5055ab0db",
   "metadata": {
    "tags": []
   },
   "outputs": [],
   "source": [
    "def collect_object(robot_position, object_positions):\n",
    "    if robot_position in object_positions:                 #check if robot is on an object\n",
    "        copy_of_object_positions = object_positions.copy() #create copy of object position list\n",
    "        copy_of_object_positions.remove(robot_position)    #collect object by removing it from copied list\n",
    "        return (copy_of_object_positions)                  #return copied and updated list if robot is on object\n",
    "    else:\n",
    "        raise exception(\"there is no object here\") \n"
   ]
  },
  {
   "cell_type": "code",
   "execution_count": 61,
   "id": "87c8ad1f-0fca-4e84-8be0-7fe507652337",
   "metadata": {
    "editable": false,
    "tags": []
   },
   "outputs": [
    {
     "data": {
      "text/plain": [
       "[(5, 7), (9, 2)]"
      ]
     },
     "execution_count": 61,
     "metadata": {},
     "output_type": "execute_result"
    }
   ],
   "source": [
    "# test case 1 - should return [(5, 7), (9, 2)]\n",
    "object_positions = [(4, 9), (5, 7), (9, 2)]\n",
    "robot_position = (4, 9)\n",
    "collect_object(robot_position, object_positions)"
   ]
  },
  {
   "cell_type": "code",
   "execution_count": 62,
   "id": "c337a17a-a8bc-4c13-aba2-e5da42f413f3",
   "metadata": {
    "editable": false,
    "tags": []
   },
   "outputs": [
    {
     "data": {
      "text/plain": [
       "[(4, 9), (5, 7), (9, 2)]"
      ]
     },
     "execution_count": 62,
     "metadata": {},
     "output_type": "execute_result"
    }
   ],
   "source": [
    "# test case 2 - should return [(4, 9), (5, 7), (9, 2)]\n",
    "# ie. the input list was not updated in place\n",
    "object_positions = [(4, 9), (5, 7), (9, 2)]\n",
    "robot_position = (4, 9)\n",
    "collect_object(robot_position, object_positions)\n",
    "object_positions"
   ]
  },
  {
   "cell_type": "code",
   "execution_count": 63,
   "id": "40d01ff0-17f8-4293-9f0c-4f4ab3184447",
   "metadata": {
    "editable": false,
    "tags": []
   },
   "outputs": [
    {
     "name": "stdout",
     "output_type": "stream",
     "text": [
      "Correct. Your code does return an error message.\n"
     ]
    }
   ],
   "source": [
    "# test case 3 - test to see whether code returns error if robot not at an object location\n",
    "# see output string to see whether correct or not\n",
    "object_positions = [(4, 9), (5, 7), (9, 2)]\n",
    "robot_position = (0, 0)\n",
    "message = 'Incorrect. Your code should return an error message.'\n",
    "try:\n",
    "    collect_object(robot_position, object_positions)\n",
    "except:\n",
    "    message = 'Correct. Your code does return an error message.'\n",
    "print(message)"
   ]
  },
  {
   "cell_type": "markdown",
   "id": "32988a7d-364a-4b27-8f88-fff3f32d8ccf",
   "metadata": {
    "editable": false,
    "tags": []
   },
   "source": [
    "### 2.3 Simulating one time step (1 mark)\n",
    "Now that you know how to move the robot (part 1.7) and collect an object (part 2.2), we can simulate one time step for the robot. This function should collect an object if the robot position matches the 1st element in the object_positions list. Otherwise it should move the robot towards the first element in the object_positions list as per part 1.7.\n",
    "\n",
    "<div style=\"color:#990000\"><b>Task:</b> Create a function below that accepts two inputs: a robot position tuple and a list of object position tuples. It should output an updated robot position and list of object positions after one time step (either collecting an object, or moving one tile per the above instructions)."
   ]
  },
  {
   "cell_type": "code",
   "execution_count": 64,
   "id": "19edd8a0-1009-42ee-b996-8064538cf24f",
   "metadata": {},
   "outputs": [],
   "source": [
    "def simulate_one_time_step(robot_position, object_positions):\n",
    "    # replace pass with your own solution\n",
    "    \n",
    "    if robot_position == object_positions[0]:\n",
    "        collect_object (robot_position, object_positions)\n",
    "        return copy_of_object_positions\n",
    "        \n",
    "    else:\n",
    "        object_position = object_positions[0]\n",
    "        move_robot (robot_position, object_position)\n",
    "        return new_robot_position\n",
    "    \n",
    "#outputs :\n",
    "            #updated robot position\n",
    "            #list of object positions"
   ]
  },
  {
   "cell_type": "code",
   "execution_count": 65,
   "id": "a83fbf03-4e27-4b0f-9319-c90a6dee7baf",
   "metadata": {},
   "outputs": [
    {
     "name": "stdout",
     "output_type": "stream",
     "text": [
      "(0, 0)\n",
      "(4, 9)\n",
      "(4, 9)\n"
     ]
    },
    {
     "ename": "NameError",
     "evalue": "name 'object_position' is not defined",
     "output_type": "error",
     "traceback": [
      "\u001b[0;31m---------------------------------------------------------------------------\u001b[0m",
      "\u001b[0;31mNameError\u001b[0m                                 Traceback (most recent call last)",
      "Cell \u001b[0;32mIn[65], line 6\u001b[0m\n\u001b[1;32m      4\u001b[0m \u001b[38;5;28mprint\u001b[39m(object_positions[\u001b[38;5;241m0\u001b[39m])\n\u001b[1;32m      5\u001b[0m \u001b[38;5;28mprint\u001b[39m(object_positions[\u001b[38;5;241m0\u001b[39m])\n\u001b[0;32m----> 6\u001b[0m \u001b[38;5;28mprint\u001b[39m(\u001b[43mobject_position\u001b[49m)\n",
      "\u001b[0;31mNameError\u001b[0m: name 'object_position' is not defined"
     ]
    }
   ],
   "source": [
    "#test area\n",
    "\n",
    "print(robot_position)\n",
    "print(object_positions[0])\n",
    "print(object_positions[0])\n",
    "print(object_position)"
   ]
  },
  {
   "cell_type": "code",
   "execution_count": 56,
   "id": "516ee3f7-52ed-4537-ab81-7e424d725504",
   "metadata": {
    "editable": false,
    "tags": []
   },
   "outputs": [
    {
     "name": "stdout",
     "output_type": "stream",
     "text": [
      "0\n",
      "0\n"
     ]
    }
   ],
   "source": [
    "# test case 1 - moving horizontally\n",
    "robot_position, object_positions = simulate_one_time_step((0, 0), [(4, 9), (5, 7), (9, 2)])\n",
    "print(robot_position) # should return (1, 0)\n",
    "print(object_positions) # should return [(4, 9), (5, 7), (9, 2)]"
   ]
  },
  {
   "cell_type": "code",
   "execution_count": 119,
   "id": "eaabdcc0-6c2d-4cbc-b6c2-9db2f8fca478",
   "metadata": {
    "editable": false,
    "tags": []
   },
   "outputs": [
    {
     "name": "stdout",
     "output_type": "stream",
     "text": [
      "9\n",
      "0\n"
     ]
    }
   ],
   "source": [
    "# test case 2 - moving vertically\n",
    "robot_position, object_positions = simulate_one_time_step((9, 0), [(4, 9), (5, 7), (9, 2)])\n",
    "print(robot_position) # should return (9, 1)\n",
    "print(object_positions) # should return [(4, 9), (5, 7), (9, 2)]"
   ]
  },
  {
   "cell_type": "code",
   "execution_count": null,
   "id": "63df5b87-e90b-4a59-b61b-7818d8c1f51f",
   "metadata": {
    "editable": false,
    "tags": []
   },
   "outputs": [],
   "source": [
    "# test case 3 - picking up object\n",
    "robot_position, object_positions = simulate_one_time_step((4, 9), [(4, 9), (5, 7), (9, 2)])\n",
    "print(robot_position) # should return (4, 9)\n",
    "print(object_positions) # should return [(5, 7), (9, 2)]"
   ]
  },
  {
   "cell_type": "code",
   "execution_count": null,
   "id": "b42dba51-101b-4917-af2e-5f06298518a5",
   "metadata": {
    "editable": false,
    "tags": []
   },
   "outputs": [],
   "source": [
    "# test case 4 - should move, even though the robot position appears in object positions.\n",
    "# this is because the robot collects in the order defined by the list\n",
    "robot_position, object_positions = simulate_one_time_step((9, 2), [(4, 9), (5, 7), (9, 2)])\n",
    "print(robot_position) # should return (9, 3)\n",
    "print(object_positions) # should return [(4, 9), (5, 7), (9, 2)]"
   ]
  },
  {
   "cell_type": "markdown",
   "id": "ed6dad6c-3223-4996-bfe4-029b0bdde843",
   "metadata": {
    "editable": false,
    "tags": []
   },
   "source": [
    "### 2.4 Simulate until all objects are collected (2 marks)\n",
    "Now that you have simulated one time step of the robot, you will iterate through this process to form a complete simulation of the robot collecting all 10 objects. Your code should store the robot position and objects positions in a list after each time step of the simulation.\n",
    "\n",
    "A suggested algorithm is:\n",
    "1. Evaluate the initial robot and object positions and store each of these in a list\n",
    "2. While there are still objects remaining, simulate the next time step and append the new robot position and the new object positions to their respective lists.\n",
    "\n",
    "<div style=\"color:#990000\"><b>Task:</b> Create a function that performs a complete simulation of the robot collecting all 10 objects. The function accepts two arguments, <code>rng_seed</code> and <code>sort</code> are needed when randomly initialising positions. The function returns two outputs: a list of the robot position at each time step, and a list of the object positions at each time step."
   ]
  },
  {
   "cell_type": "code",
   "execution_count": null,
   "id": "bedda7ad-8b03-4b2a-b0c2-9486ca3e4383",
   "metadata": {},
   "outputs": [],
   "source": [
    "def complete_simulation(rng_seed, sort=False):\n",
    "    # replace pass with your own solution\n",
    "    pass"
   ]
  },
  {
   "cell_type": "markdown",
   "id": "68666c5d-c8cd-4218-a3dd-6b2d223bfc9f",
   "metadata": {
    "editable": false,
    "tags": []
   },
   "source": [
    "The code below has been provided to visualise the collection process to help check your answers. The two test cases provided should be animations that match the ones provided on Canvas."
   ]
  },
  {
   "cell_type": "code",
   "execution_count": null,
   "id": "d8f04eb0-deb6-45f5-a3a5-4830eda0de4c",
   "metadata": {
    "editable": false,
    "tags": []
   },
   "outputs": [],
   "source": [
    "# This function has been implemented for you (do not change it!)\n",
    "\n",
    "import IPython.display\n",
    "import matplotlib.pyplot as plt\n",
    "import matplotlib.animation as animation\n",
    "\n",
    "def visualise(rng_seed, sort=False):\n",
    "    # Perform simulation from student's code\n",
    "    robot_position_list, object_positions_list = complete_simulation(rng_seed, sort)\n",
    "    iterations = len(robot_position_list)\n",
    "    \n",
    "    # Create a Plotting surface so that we can visualize the resulting position\n",
    "    fig, ax = plt.subplots()\n",
    "    robot_position = robot_position_list[0]\n",
    "    object_positions = object_positions_list[0]\n",
    "    object_x_coordinates = [ x for (x,y) in object_positions ]\n",
    "    object_y_coordinates = [ y for (x,y) in object_positions ]\n",
    "    \n",
    "    scat = ax.scatter(robot_position[0], robot_position[1], c = \"b\")\n",
    "    scat2 = ax.scatter(object_x_coordinates, object_y_coordinates, c = \"r\", marker = '*')\n",
    "    ax.set_xlim(-0.5, 99.5)\n",
    "    ax.set_ylim(-0.5, 99.5)\n",
    "\n",
    "    # This function performs one time step of the simulation and then updates the plot to show the x,y coordinates of the new positions\n",
    "    def animate(i):\n",
    "        #ax.set_title(f't = {i} seconds')\n",
    "        scat.set_offsets(robot_position_list[i])\n",
    "        object_positions = object_positions_list[i]\n",
    "        if object_positions:\n",
    "            scat2.set_offsets(object_positions)\n",
    "        else:\n",
    "            scat2.set_offsets([None,None])\n",
    "\n",
    "        return (scat, scat2)\n",
    "\n",
    "    # We are going to create a video animation of the simulation that runs for 1000 iterations, one video frame per iteration, displayed at 20 frames per second\n",
    "    robot_animation = animation.FuncAnimation(fig, animate, frames=iterations, interval=50)\n",
    "    plt.close(fig)\n",
    "    video = robot_animation.to_html5_video()\n",
    "    html = IPython.display.HTML(video)\n",
    "    IPython.display.display(html)"
   ]
  },
  {
   "cell_type": "code",
   "execution_count": null,
   "id": "bdbac475-be34-44c5-9955-8d0b616a3cb8",
   "metadata": {
    "editable": false,
    "tags": []
   },
   "outputs": [],
   "source": [
    "# test case 1 - this should return an animation of the robot if you answered correctly\n",
    "# it should look the same as the video uploaded to Canvas\n",
    "visualise(1)"
   ]
  },
  {
   "cell_type": "code",
   "execution_count": null,
   "id": "c7f737e3-6db7-4379-98ef-b9db04b8aed2",
   "metadata": {
    "editable": false,
    "tags": []
   },
   "outputs": [],
   "source": [
    "# another visual check with a different initial board state\n",
    "visualise(2)"
   ]
  },
  {
   "cell_type": "markdown",
   "id": "2a9fad23-ce8f-47d0-a0ec-22d79fd72bce",
   "metadata": {
    "editable": false,
    "tags": []
   },
   "source": [
    "### 2.5 Computing travel distance (2 marks)\n",
    "We would like to be able to compute travel distance of the robot to measure how efficiently we are collecting objects. This can be computed without running a full simulation of the robot like 2.4. We can compute the travel distance by iterating through the <code>compute_L1_distance</code> function from part 1.6. A recommended algorithm for this is:\n",
    "1. Compute the distance between the robot and the first object and store this as the travel distance.\n",
    "2. For each remaining pair of adjacent object positions, compute the distance and add it to the current travel distance to get an updated value.\n",
    "\n",
    "<div style=\"color:#990000\"><b>Task:</b> Create a function that computes the total travel distance of the object as it collects all the objects. The function has two inputs: the initial robot position and the initial object positions. The function returns one value, which is the total distance travelled after collecting every object."
   ]
  },
  {
   "cell_type": "code",
   "execution_count": null,
   "id": "52274770-8b6f-40c8-a9bd-36fe5c0058a7",
   "metadata": {},
   "outputs": [],
   "source": [
    "def compute_travel_distance(robot_position, object_positions):\n",
    "    # replace pass with your own solution\n",
    "    pass"
   ]
  },
  {
   "cell_type": "code",
   "execution_count": null,
   "id": "d266639e-70d7-44bc-b00e-939efb253b98",
   "metadata": {
    "editable": false,
    "tags": []
   },
   "outputs": [],
   "source": [
    "# test case 1 - should return 775\n",
    "robot_position, object_positions = initialise_positions(1)\n",
    "compute_travel_distance(robot_position, object_positions)"
   ]
  },
  {
   "cell_type": "code",
   "execution_count": null,
   "id": "9dee1253-5cb0-45d6-a317-660e47480868",
   "metadata": {
    "editable": false,
    "tags": []
   },
   "outputs": [],
   "source": [
    "# test case 2 - should return 645\n",
    "robot_position, object_positions = initialise_positions(2)\n",
    "compute_travel_distance(robot_position, object_positions)"
   ]
  },
  {
   "cell_type": "markdown",
   "id": "f7827020-6e1c-4cbe-81eb-c8ae027b680d",
   "metadata": {
    "editable": false,
    "tags": []
   },
   "source": [
    "### 2.6 Finding the nearest object (2 marks)\n",
    "You should have noticed from the animations in 2.4 that the current approach for collecting objects is inefficient. At this stage the order of the objects list is random. Collecting objects in a random order like this will usually lead to inefficient collection, often ignoring objects close to the robot in favour of ones that are far away. \n",
    "\n",
    "A simple approach that would improve the collection distance is to get the robot to always choose to collect the object that it is closest to. With this in mind, we will get you to define a function that can find the object that is closest to the robot.\n",
    "\n",
    "<div style=\"color:#990000\"><b>Task:</b> Create a function with two arguments: a robot position tuple and a list of object position tuples. The function should return the object position tuple that is closest to the robot."
   ]
  },
  {
   "cell_type": "code",
   "execution_count": null,
   "id": "e25b842f-01df-42db-a0a7-4948a1eaa09d",
   "metadata": {},
   "outputs": [],
   "source": [
    "def find_nearest_object(robot_position, object_positions):\n",
    "    # replace pass with your own solution\n",
    "    pass"
   ]
  },
  {
   "cell_type": "code",
   "execution_count": null,
   "id": "6f920466-4cff-42eb-bb4b-e058ecd5afa5",
   "metadata": {
    "editable": false,
    "tags": []
   },
   "outputs": [],
   "source": [
    "# test case 1 - should output (2, 1)\n",
    "find_nearest_object((0, 0), [(2, 1), (5, 7), (9, 3)]) "
   ]
  },
  {
   "cell_type": "code",
   "execution_count": null,
   "id": "2cd83c6e-b71c-4d84-a023-3da701110c6d",
   "metadata": {
    "editable": false,
    "tags": []
   },
   "outputs": [],
   "source": [
    "# test case 2 - should output (5, 7)\n",
    "find_nearest_object((7, 5), [(2, 1), (5, 7), (9, 3)])"
   ]
  },
  {
   "cell_type": "code",
   "execution_count": null,
   "id": "0eb7b4b0-294b-48b1-97b0-2031c6af557d",
   "metadata": {
    "editable": false,
    "tags": []
   },
   "outputs": [],
   "source": [
    "# test case 3 - should output (9, 3)\n",
    "find_nearest_object((7, 5), [(2, 1), (9, 3), (5, 7)])"
   ]
  },
  {
   "cell_type": "markdown",
   "id": "7b67e8a8-d94c-4ab5-acb0-5109678f9b1e",
   "metadata": {
    "editable": false,
    "tags": []
   },
   "source": [
    "### 2.7 Sorting the object positions (2 marks)\n",
    "Now that you can find the nearest object to the robot, you can now utilise this to help sort the object positions list. We want it to be sorted so that the robot always moves to the closest object (both initially, and then after collecting any object). \n",
    "\n",
    "<div style=\"color:#990000\"><b>Task:</b> Create a function with two arguments: a robot position tuple and a list of object position tuples. The function should return a sorted list of object position tuples such that the robot always moves to the object it is closest to."
   ]
  },
  {
   "cell_type": "code",
   "execution_count": null,
   "id": "91df1033-12a8-4f3d-89dc-0dd044992f0e",
   "metadata": {},
   "outputs": [],
   "source": [
    "def sort_object_positions(robot_position, object_positions):\n",
    "    # replace pass with your own solution\n",
    "    pass"
   ]
  },
  {
   "cell_type": "code",
   "execution_count": null,
   "id": "3408d956-6f1b-43ff-84ea-5e3a4550685f",
   "metadata": {
    "editable": false,
    "tags": []
   },
   "outputs": [],
   "source": [
    "# test case 1 - should return [(9, 3), (5, 7), (2, 1)]\n",
    "sort_object_positions((7, 4), [(2, 1), (9, 3), (5, 7)])"
   ]
  },
  {
   "cell_type": "code",
   "execution_count": null,
   "id": "31768e18-f00c-48df-9c23-5b14d9322433",
   "metadata": {
    "editable": false,
    "tags": []
   },
   "outputs": [],
   "source": [
    "# test case 2 - should return [(1, 1), (2, 4), (5, 1), (7, 0), (5, 9)]\n",
    "sort_object_positions((0, 0), [(1, 1), (5, 9), (2, 4), (7, 0), (5, 1)])"
   ]
  },
  {
   "cell_type": "code",
   "execution_count": null,
   "id": "f3429656-0afd-400c-bf8b-da22b2360fd1",
   "metadata": {
    "editable": false,
    "tags": []
   },
   "outputs": [],
   "source": [
    "# test case 3 - a visual check\n",
    "visualise(1, sort=True)"
   ]
  },
  {
   "cell_type": "code",
   "execution_count": null,
   "id": "63a48472-9ed6-4493-8359-cf651a446b50",
   "metadata": {
    "editable": false,
    "tags": []
   },
   "outputs": [],
   "source": [
    "# test case 4 - another visual check\n",
    "visualise(2, sort=True)"
   ]
  },
  {
   "cell_type": "markdown",
   "id": "df85e451-38a6-4c55-b189-1a4a42cb59d4",
   "metadata": {
    "tags": []
   },
   "source": [
    "### 2.8 Discuss efficiency improvements (2 marks)\n",
    "<div style=\"color:#990000\"><b>Task:</b> Discuss the improvement in efficiency when collecting the sorted object positions rather than the unsorted ones. You should provide code that supports this discussion - for example, you may want to compute and compare the travel distances for many initialised board states.\n",
    " \n",
    "Also discuss whether this sorting algorithm is always optimal (ie. does this always minimise the travel distance required for the robot?). You may want to do a bit of research on this and support with citations. </div>"
   ]
  },
  {
   "cell_type": "code",
   "execution_count": null,
   "id": "21def74c-f9b9-4dce-853f-bd574fd2f6ba",
   "metadata": {
    "editable": false,
    "tags": []
   },
   "outputs": [],
   "source": [
    "# can enter any relevant code here to aid your discussion"
   ]
  },
  {
   "cell_type": "markdown",
   "id": "8320d657-6e08-4b95-b556-da60e21ece49",
   "metadata": {},
   "source": [
    "Can enter text into this Markdown cell to communicate your discussion."
   ]
  },
  {
   "cell_type": "code",
   "execution_count": null,
   "id": "a442c097-9c94-41b7-8741-300f581dbe1b",
   "metadata": {},
   "outputs": [],
   "source": []
  }
 ],
 "metadata": {
  "kernelspec": {
   "display_name": "Python 3 (ipykernel)",
   "language": "python",
   "name": "python3"
  },
  "language_info": {
   "codemirror_mode": {
    "name": "ipython",
    "version": 3
   },
   "file_extension": ".py",
   "mimetype": "text/x-python",
   "name": "python",
   "nbconvert_exporter": "python",
   "pygments_lexer": "ipython3",
   "version": "3.12.8"
  }
 },
 "nbformat": 4,
 "nbformat_minor": 5
}
