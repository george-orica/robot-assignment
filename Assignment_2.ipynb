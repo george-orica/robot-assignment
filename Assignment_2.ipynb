{
 "cells": [
  {
   "cell_type": "markdown",
   "metadata": {},
   "source": []
  },
  {
   "cell_type": "markdown",
   "metadata": {},
   "source": [
    "## Imports"
   ]
  },
  {
   "cell_type": "code",
   "execution_count": 15,
   "metadata": {},
   "outputs": [],
   "source": [
    "import pandas as pd\n",
    "import matplotlib.pyplot as plt"
   ]
  },
  {
   "cell_type": "markdown",
   "metadata": {},
   "source": [
    "# Question 1a"
   ]
  },
  {
   "cell_type": "code",
   "execution_count": 16,
   "metadata": {},
   "outputs": [],
   "source": [
    "# Read to dataframe with Month_Start as a date\n",
    "df = pd.read_csv(\"data/flight_delays.csv\", parse_dates=[\"Month_Start\"])"
   ]
  },
  {
   "cell_type": "code",
   "execution_count": 17,
   "metadata": {},
   "outputs": [
    {
     "name": "stdout",
     "output_type": "stream",
     "text": [
      "  Departing_Port Arriving_Port Airline Month_Start  Flights  \\\n",
      "0       Adelaide      Brisbane  Qantas  2004-01-01       93   \n",
      "1       Adelaide      Canberra  Qantas  2004-01-01       48   \n",
      "2       Adelaide    Gold Coast  Qantas  2004-01-01        9   \n",
      "3       Adelaide     Melbourne  Qantas  2004-01-01      350   \n",
      "4       Adelaide         Perth  Qantas  2004-01-01      130   \n",
      "\n",
      "   Departures_Delayed  Arrivals_Delayed  \n",
      "0                12.0               8.0  \n",
      "1                 3.0               3.0  \n",
      "2                 1.0               1.0  \n",
      "3                33.0              25.0  \n",
      "4                 9.0               5.0  \n"
     ]
    }
   ],
   "source": [
    "# First 5 rows\n",
    "print(df.head())"
   ]
  },
  {
   "cell_type": "code",
   "execution_count": 18,
   "metadata": {},
   "outputs": [
    {
     "name": "stdout",
     "output_type": "stream",
     "text": [
      "      Departing_Port Arriving_Port                             Airline  \\\n",
      "73421          Perth    Kalgoorlie  Virgin Australia Regional Airlines   \n",
      "73422          Perth      Karratha  Virgin Australia Regional Airlines   \n",
      "73423          Perth        Newman  Virgin Australia Regional Airlines   \n",
      "73424          Perth  Port Hedland  Virgin Australia Regional Airlines   \n",
      "73425   Port Hedland         Perth  Virgin Australia Regional Airlines   \n",
      "\n",
      "      Month_Start  Flights  Departures_Delayed  Arrivals_Delayed  \n",
      "73421  2023-06-01       29                 8.0              10.0  \n",
      "73422  2023-06-01       12                 4.0               6.0  \n",
      "73423  2023-06-01       20                 9.0              10.0  \n",
      "73424  2023-06-01       25                 9.0               9.0  \n",
      "73425  2023-06-01       25                13.0              14.0  \n"
     ]
    }
   ],
   "source": [
    "# First 5 rows\n",
    "print(df.tail())"
   ]
  },
  {
   "cell_type": "markdown",
   "metadata": {},
   "source": [
    "Question 2a"
   ]
  },
  {
   "cell_type": "code",
   "execution_count": 19,
   "metadata": {},
   "outputs": [
    {
     "name": "stdout",
     "output_type": "stream",
     "text": [
      "<class 'pandas.core.frame.DataFrame'>\n",
      "RangeIndex: 73426 entries, 0 to 73425\n",
      "Data columns (total 7 columns):\n",
      " #   Column              Non-Null Count  Dtype         \n",
      "---  ------              --------------  -----         \n",
      " 0   Departing_Port      73426 non-null  object        \n",
      " 1   Arriving_Port       73426 non-null  object        \n",
      " 2   Airline             73426 non-null  object        \n",
      " 3   Month_Start         73426 non-null  datetime64[ns]\n",
      " 4   Flights             73426 non-null  int64         \n",
      " 5   Departures_Delayed  73421 non-null  float64       \n",
      " 6   Arrivals_Delayed    73426 non-null  float64       \n",
      "dtypes: datetime64[ns](1), float64(2), int64(1), object(3)\n",
      "memory usage: 3.9+ MB\n",
      "None\n"
     ]
    }
   ],
   "source": [
    "print(df.info())"
   ]
  },
  {
   "cell_type": "code",
   "execution_count": 20,
   "metadata": {},
   "outputs": [
    {
     "name": "stdout",
     "output_type": "stream",
     "text": [
      "Departing_Port        0\n",
      "Arriving_Port         0\n",
      "Airline               0\n",
      "Month_Start           0\n",
      "Flights               0\n",
      "Departures_Delayed    5\n",
      "Arrivals_Delayed      0\n",
      "dtype: int64\n"
     ]
    }
   ],
   "source": [
    "print(df.isnull().sum())"
   ]
  },
  {
   "cell_type": "code",
   "execution_count": 21,
   "metadata": {},
   "outputs": [
    {
     "name": "stdout",
     "output_type": "stream",
     "text": [
      "      Departing_Port   Arriving_Port  Airline Month_Start  Flights  \\\n",
      "3098       Melbourne          Hobart  Jetstar  2005-04-01      150   \n",
      "3099       Melbourne      Launceston  Jetstar  2005-04-01      120   \n",
      "3101       Melbourne  Sunshine Coast  Jetstar  2005-04-01       60   \n",
      "9753          Sydney      Launceston  Jetstar  2007-09-01       30   \n",
      "10011      Melbourne          Cairns   Qantas  2007-10-01       31   \n",
      "\n",
      "       Departures_Delayed  Arrivals_Delayed  \n",
      "3098                  NaN              24.0  \n",
      "3099                  NaN              13.0  \n",
      "3101                  NaN               5.0  \n",
      "9753                  NaN               2.0  \n",
      "10011                 NaN               2.0  \n"
     ]
    }
   ],
   "source": [
    "print(df[df.isnull().any(axis=1)])"
   ]
  },
  {
   "cell_type": "code",
   "execution_count": 22,
   "metadata": {},
   "outputs": [
    {
     "name": "stdout",
     "output_type": "stream",
     "text": [
      "Date range: 2004-01-01 00:00:00-2023-06-01 00:00:00\n"
     ]
    }
   ],
   "source": [
    "earliest = df['Month_Start'].min()\n",
    "latest = df['Month_Start'].max()\n",
    "\n",
    "print(f\"Date range: {earliest}-{latest}\")"
   ]
  },
  {
   "cell_type": "code",
   "execution_count": 23,
   "metadata": {},
   "outputs": [
    {
     "name": "stdout",
     "output_type": "stream",
     "text": [
      "['Adelaide' 'Alice Springs' 'Brisbane' 'Broome' 'Cairns' 'Canberra'\n",
      " 'Darwin' 'Gold Coast' 'Kalgoorlie' 'Melbourne' 'Perth' 'Sydney'\n",
      " 'Townsville' 'Albury' 'Burnie' 'Coffs Harbour' 'Devonport' 'Dubbo'\n",
      " 'Hobart' 'Launceston' 'Mackay' 'Mildura' 'Rockhampton' 'Sunshine Coast'\n",
      " 'Wagga Wagga' 'Proserpine' 'Newcastle' 'Ballina' 'Karratha'\n",
      " 'Hamilton Island' 'Hervey Bay' 'Port Hedland' 'Port Lincoln'\n",
      " 'Port Macquarie' 'Newman' 'Ayers Rock' 'Gladstone' 'Geraldton' 'Emerald'\n",
      " 'Mount Isa' 'Bundaberg' 'Moranbah' 'Armidale' 'Tamworth']\n"
     ]
    }
   ],
   "source": [
    "ports = pd.concat([df['Departing_Port'], df['Arriving_Port']])\n",
    "print(ports.unique())"
   ]
  },
  {
   "cell_type": "code",
   "execution_count": 24,
   "metadata": {},
   "outputs": [
    {
     "name": "stdout",
     "output_type": "stream",
     "text": [
      "['Qantas' 'QantasLink' 'Regional Express' 'Skywest' 'Virgin Australia'\n",
      " 'Jetstar' 'Ozjet' 'Tigerair Australia'\n",
      " 'Virgin Australia - ATR/F100 Operations'\n",
      " 'Virgin Australia Regional Airlines' 'Rex Airlines']\n"
     ]
    }
   ],
   "source": [
    "print(df['Airline'].unique())"
   ]
  },
  {
   "cell_type": "code",
   "execution_count": 25,
   "metadata": {},
   "outputs": [
    {
     "name": "stdout",
     "output_type": "stream",
     "text": [
      "  Departing_Port Arriving_Port Airline Month_Start  Flights  \\\n",
      "0       Adelaide      Brisbane  Qantas  2004-01-01       93   \n",
      "1       Adelaide      Canberra  Qantas  2004-01-01       48   \n",
      "2       Adelaide    Gold Coast  Qantas  2004-01-01        9   \n",
      "3       Adelaide     Melbourne  Qantas  2004-01-01      350   \n",
      "4       Adelaide         Perth  Qantas  2004-01-01      130   \n",
      "\n",
      "   Departures_Delayed  Arrivals_Delayed  Year    Month  \n",
      "0                12.0               8.0  2004  January  \n",
      "1                 3.0               3.0  2004  January  \n",
      "2                 1.0               1.0  2004  January  \n",
      "3                33.0              25.0  2004  January  \n",
      "4                 9.0               5.0  2004  January  \n"
     ]
    }
   ],
   "source": [
    "df['Year'] = df['Month_Start'].dt.year\n",
    "df['Month'] = df['Month_Start'].dt.month_name()\n",
    "print(df.head())"
   ]
  },
  {
   "cell_type": "code",
   "execution_count": 30,
   "metadata": {},
   "outputs": [
    {
     "data": {
      "text/html": [
       "<div>\n",
       "<style scoped>\n",
       "    .dataframe tbody tr th:only-of-type {\n",
       "        vertical-align: middle;\n",
       "    }\n",
       "\n",
       "    .dataframe tbody tr th {\n",
       "        vertical-align: top;\n",
       "    }\n",
       "\n",
       "    .dataframe thead th {\n",
       "        text-align: right;\n",
       "    }\n",
       "</style>\n",
       "<table border=\"1\" class=\"dataframe\">\n",
       "  <thead>\n",
       "    <tr style=\"text-align: right;\">\n",
       "      <th></th>\n",
       "      <th>Departing_Port</th>\n",
       "      <th>Arriving_Port</th>\n",
       "      <th>Airline</th>\n",
       "      <th>Month_Start</th>\n",
       "      <th>Flights</th>\n",
       "      <th>Departures_Delayed</th>\n",
       "      <th>Arrivals_Delayed</th>\n",
       "      <th>Year</th>\n",
       "      <th>Month</th>\n",
       "    </tr>\n",
       "  </thead>\n",
       "  <tbody>\n",
       "    <tr>\n",
       "      <th>0</th>\n",
       "      <td>Adelaide</td>\n",
       "      <td>Brisbane</td>\n",
       "      <td>Qantas</td>\n",
       "      <td>2004-01-01</td>\n",
       "      <td>93</td>\n",
       "      <td>12.0</td>\n",
       "      <td>8.0</td>\n",
       "      <td>2004</td>\n",
       "      <td>January</td>\n",
       "    </tr>\n",
       "    <tr>\n",
       "      <th>1</th>\n",
       "      <td>Adelaide</td>\n",
       "      <td>Canberra</td>\n",
       "      <td>Qantas</td>\n",
       "      <td>2004-01-01</td>\n",
       "      <td>48</td>\n",
       "      <td>3.0</td>\n",
       "      <td>3.0</td>\n",
       "      <td>2004</td>\n",
       "      <td>January</td>\n",
       "    </tr>\n",
       "    <tr>\n",
       "      <th>2</th>\n",
       "      <td>Adelaide</td>\n",
       "      <td>Gold Coast</td>\n",
       "      <td>Qantas</td>\n",
       "      <td>2004-01-01</td>\n",
       "      <td>9</td>\n",
       "      <td>1.0</td>\n",
       "      <td>1.0</td>\n",
       "      <td>2004</td>\n",
       "      <td>January</td>\n",
       "    </tr>\n",
       "    <tr>\n",
       "      <th>3</th>\n",
       "      <td>Adelaide</td>\n",
       "      <td>Melbourne</td>\n",
       "      <td>Qantas</td>\n",
       "      <td>2004-01-01</td>\n",
       "      <td>350</td>\n",
       "      <td>33.0</td>\n",
       "      <td>25.0</td>\n",
       "      <td>2004</td>\n",
       "      <td>January</td>\n",
       "    </tr>\n",
       "    <tr>\n",
       "      <th>4</th>\n",
       "      <td>Adelaide</td>\n",
       "      <td>Perth</td>\n",
       "      <td>Qantas</td>\n",
       "      <td>2004-01-01</td>\n",
       "      <td>130</td>\n",
       "      <td>9.0</td>\n",
       "      <td>5.0</td>\n",
       "      <td>2004</td>\n",
       "      <td>January</td>\n",
       "    </tr>\n",
       "  </tbody>\n",
       "</table>\n",
       "</div>"
      ],
      "text/plain": [
       "  Departing_Port Arriving_Port Airline Month_Start  Flights  \\\n",
       "0       Adelaide      Brisbane  Qantas  2004-01-01       93   \n",
       "1       Adelaide      Canberra  Qantas  2004-01-01       48   \n",
       "2       Adelaide    Gold Coast  Qantas  2004-01-01        9   \n",
       "3       Adelaide     Melbourne  Qantas  2004-01-01      350   \n",
       "4       Adelaide         Perth  Qantas  2004-01-01      130   \n",
       "\n",
       "   Departures_Delayed  Arrivals_Delayed  Year    Month  \n",
       "0                12.0               8.0  2004  January  \n",
       "1                 3.0               3.0  2004  January  \n",
       "2                 1.0               1.0  2004  January  \n",
       "3                33.0              25.0  2004  January  \n",
       "4                 9.0               5.0  2004  January  "
      ]
     },
     "execution_count": 30,
     "metadata": {},
     "output_type": "execute_result"
    }
   ],
   "source": [
    "df.head()"
   ]
  },
  {
   "cell_type": "code",
   "execution_count": 26,
   "metadata": {},
   "outputs": [
    {
     "data": {
      "text/html": [
       "<div>\n",
       "<style scoped>\n",
       "    .dataframe tbody tr th:only-of-type {\n",
       "        vertical-align: middle;\n",
       "    }\n",
       "\n",
       "    .dataframe tbody tr th {\n",
       "        vertical-align: top;\n",
       "    }\n",
       "\n",
       "    .dataframe thead th {\n",
       "        text-align: right;\n",
       "    }\n",
       "</style>\n",
       "<table border=\"1\" class=\"dataframe\">\n",
       "  <thead>\n",
       "    <tr style=\"text-align: right;\">\n",
       "      <th></th>\n",
       "      <th>City1</th>\n",
       "      <th>City2</th>\n",
       "      <th>Month</th>\n",
       "      <th>Passenger_Trips</th>\n",
       "      <th>Aircraft_Trips</th>\n",
       "      <th>Route_Distance</th>\n",
       "      <th>Seats</th>\n",
       "    </tr>\n",
       "  </thead>\n",
       "  <tbody>\n",
       "    <tr>\n",
       "      <th>0</th>\n",
       "      <td>ADELAIDE</td>\n",
       "      <td>ALICE SPRINGS</td>\n",
       "      <td>Jan-84</td>\n",
       "      <td>15743</td>\n",
       "      <td>143</td>\n",
       "      <td>1316</td>\n",
       "      <td>19246</td>\n",
       "    </tr>\n",
       "    <tr>\n",
       "      <th>1</th>\n",
       "      <td>ADELAIDE</td>\n",
       "      <td>BRISBANE</td>\n",
       "      <td>Jan-84</td>\n",
       "      <td>3781</td>\n",
       "      <td>32</td>\n",
       "      <td>1622</td>\n",
       "      <td>4210</td>\n",
       "    </tr>\n",
       "    <tr>\n",
       "      <th>2</th>\n",
       "      <td>ADELAIDE</td>\n",
       "      <td>CANBERRA</td>\n",
       "      <td>Jan-84</td>\n",
       "      <td>1339</td>\n",
       "      <td>12</td>\n",
       "      <td>972</td>\n",
       "      <td>1414</td>\n",
       "    </tr>\n",
       "    <tr>\n",
       "      <th>3</th>\n",
       "      <td>ADELAIDE</td>\n",
       "      <td>DARWIN</td>\n",
       "      <td>Jan-84</td>\n",
       "      <td>3050</td>\n",
       "      <td>33</td>\n",
       "      <td>2619</td>\n",
       "      <td>4566</td>\n",
       "    </tr>\n",
       "    <tr>\n",
       "      <th>4</th>\n",
       "      <td>ADELAIDE</td>\n",
       "      <td>GOLD COAST</td>\n",
       "      <td>Jan-84</td>\n",
       "      <td>1596</td>\n",
       "      <td>16</td>\n",
       "      <td>1607</td>\n",
       "      <td>1803</td>\n",
       "    </tr>\n",
       "  </tbody>\n",
       "</table>\n",
       "</div>"
      ],
      "text/plain": [
       "      City1          City2   Month  Passenger_Trips  Aircraft_Trips  \\\n",
       "0  ADELAIDE  ALICE SPRINGS  Jan-84            15743             143   \n",
       "1  ADELAIDE       BRISBANE  Jan-84             3781              32   \n",
       "2  ADELAIDE       CANBERRA  Jan-84             1339              12   \n",
       "3  ADELAIDE         DARWIN  Jan-84             3050              33   \n",
       "4  ADELAIDE     GOLD COAST  Jan-84             1596              16   \n",
       "\n",
       "   Route_Distance  Seats  \n",
       "0            1316  19246  \n",
       "1            1622   4210  \n",
       "2             972   1414  \n",
       "3            2619   4566  \n",
       "4            1607   1803  "
      ]
     },
     "execution_count": 26,
     "metadata": {},
     "output_type": "execute_result"
    }
   ],
   "source": [
    "df_2 = pd.read_csv(\"data/domestic_flights.csv\")\n",
    "df_2.head()"
   ]
  },
  {
   "cell_type": "code",
   "execution_count": 53,
   "metadata": {},
   "outputs": [
    {
     "name": "stdout",
     "output_type": "stream",
     "text": [
      "Total flights: 292884\n"
     ]
    },
    {
     "data": {
      "text/plain": [
       "Airline\n",
       "Jetstar              34618\n",
       "Qantas              106134\n",
       "QantasLink           34719\n",
       "Regional Express     14271\n",
       "Skywest               2079\n",
       "Name: Flights, dtype: int64"
      ]
     },
     "execution_count": 53,
     "metadata": {},
     "output_type": "execute_result"
    }
   ],
   "source": [
    "# Filter results to 2005\n",
    "year_filter = df[df['Year'] == 2005]\n",
    "\n",
    "# Get total flights\n",
    "total_flights = year_filter['Flights'].sum()\n",
    "print(f\"Total flights: {total_flights}\")\n",
    "\n",
    "# Get flights by airline\n",
    "flights_by_airline = year_filter.groupby('Airline')['Flights'].sum()\n",
    "flights_by_airline.head()"
   ]
  },
  {
   "cell_type": "code",
   "execution_count": 52,
   "metadata": {},
   "outputs": [
    {
     "data": {
      "image/png": "[encoded data removed]",
      "text/plain": [
       "<Figure size 640x480 with 1 Axes>"
      ]
     },
     "metadata": {},
     "output_type": "display_data"
    }
   ],
   "source": [
    "import matplotlib.pyplot as plt\n",
    "\n",
    "# Plot \n",
    "fig, ax = plt.subplots()\n",
    "ax.pie(\n",
    "    flights_by_airline,\n",
    "    labels=flights_by_airline.index,\n",
    "    autopct='%1.1f%%', # Adds percentage labels\n",
    ")\n",
    "plt.title('Proportion of Flights by Airline')\n",
    "plt.show()"
   ]
  },
  {
   "cell_type": "code",
   "execution_count": 38,
   "metadata": {},
   "outputs": [
    {
     "data": {
      "text/plain": [
       "Airline\n",
       "Jetstar              4929.0\n",
       "Qantas              17092.0\n",
       "QantasLink           5178.0\n",
       "Regional Express     1514.0\n",
       "Skywest               184.0\n",
       "Name: Departures_Delayed, dtype: float64"
      ]
     },
     "execution_count": 38,
     "metadata": {},
     "output_type": "execute_result"
    }
   ],
   "source": [
    "delays = year_filter.groupby('Airline')['Departures_Delayed'].sum()\n",
    "delays.head()"
   ]
  },
  {
   "cell_type": "code",
   "execution_count": 35,
   "metadata": {},
   "outputs": [
    {
     "data": {
      "text/plain": [
       "Airline\n",
       "Jetstar              5085.0\n",
       "Qantas              16756.0\n",
       "QantasLink           6019.0\n",
       "Regional Express     2174.0\n",
       "Skywest               206.0\n",
       "Name: Arrivals_Delayed, dtype: float64"
      ]
     },
     "execution_count": 35,
     "metadata": {},
     "output_type": "execute_result"
    }
   ],
   "source": [
    "arrival_delays = year_filter.groupby('Airline')['Arrivals_Delayed'].sum()\n",
    "arrival_delays.head()"
   ]
  },
  {
   "cell_type": "code",
   "execution_count": null,
   "metadata": {},
   "outputs": [],
   "source": []
  }
 ],
 "metadata": {
  "kernelspec": {
   "display_name": ".venv",
   "language": "python",
   "name": "python3"
  },
  "language_info": {
   "codemirror_mode": {
    "name": "ipython",
    "version": 3
   },
   "file_extension": ".py",
   "mimetype": "text/x-python",
   "name": "python",
   "nbconvert_exporter": "python",
   "pygments_lexer": "ipython3",
   "version": "3.9.21"
  }
 },
 "nbformat": 4,
 "nbformat_minor": 2
}
