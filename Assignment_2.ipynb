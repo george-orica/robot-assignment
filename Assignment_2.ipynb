{
 "cells": [
  {
   "cell_type": "markdown",
   "metadata": {},
   "source": []
  },
  {
   "cell_type": "markdown",
   "metadata": {},
   "source": [
    "## Imports"
   ]
  },
  {
   "cell_type": "code",
   "execution_count": 25,
   "metadata": {},
   "outputs": [],
   "source": [
    "import pandas as pd"
   ]
  },
  {
   "cell_type": "markdown",
   "metadata": {},
   "source": [
    "# Question 1a"
   ]
  },
  {
   "cell_type": "code",
   "execution_count": 26,
   "metadata": {},
   "outputs": [],
   "source": [
    "# Read to dataframe with Month_Start as a date\n",
    "df = pd.read_csv(\"data/flight_delays.csv\", parse_dates=[\"Month_Start\"])"
   ]
  },
  {
   "cell_type": "code",
   "execution_count": 27,
   "metadata": {},
   "outputs": [
    {
     "name": "stdout",
     "output_type": "stream",
     "text": [
      "  Departing_Port Arriving_Port Airline Month_Start  Flights  \\\n",
      "0       Adelaide      Brisbane  Qantas  2004-01-01       93   \n",
      "1       Adelaide      Canberra  Qantas  2004-01-01       48   \n",
      "2       Adelaide    Gold Coast  Qantas  2004-01-01        9   \n",
      "3       Adelaide     Melbourne  Qantas  2004-01-01      350   \n",
      "4       Adelaide         Perth  Qantas  2004-01-01      130   \n",
      "\n",
      "   Departures_Delayed  Arrivals_Delayed  \n",
      "0                12.0               8.0  \n",
      "1                 3.0               3.0  \n",
      "2                 1.0               1.0  \n",
      "3                33.0              25.0  \n",
      "4                 9.0               5.0  \n"
     ]
    }
   ],
   "source": [
    "# First 5 rows\n",
    "print(df.head())"
   ]
  },
  {
   "cell_type": "code",
   "execution_count": 28,
   "metadata": {},
   "outputs": [
    {
     "name": "stdout",
     "output_type": "stream",
     "text": [
      "      Departing_Port Arriving_Port                             Airline  \\\n",
      "73421          Perth    Kalgoorlie  Virgin Australia Regional Airlines   \n",
      "73422          Perth      Karratha  Virgin Australia Regional Airlines   \n",
      "73423          Perth        Newman  Virgin Australia Regional Airlines   \n",
      "73424          Perth  Port Hedland  Virgin Australia Regional Airlines   \n",
      "73425   Port Hedland         Perth  Virgin Australia Regional Airlines   \n",
      "\n",
      "      Month_Start  Flights  Departures_Delayed  Arrivals_Delayed  \n",
      "73421  2023-06-01       29                 8.0              10.0  \n",
      "73422  2023-06-01       12                 4.0               6.0  \n",
      "73423  2023-06-01       20                 9.0              10.0  \n",
      "73424  2023-06-01       25                 9.0               9.0  \n",
      "73425  2023-06-01       25                13.0              14.0  \n"
     ]
    }
   ],
   "source": [
    "# First 5 rows\n",
    "print(df.tail())"
   ]
  },
  {
   "cell_type": "markdown",
   "metadata": {},
   "source": [
    "Question 2a"
   ]
  },
  {
   "cell_type": "code",
   "execution_count": 29,
   "metadata": {},
   "outputs": [
    {
     "name": "stdout",
     "output_type": "stream",
     "text": [
      "<class 'pandas.core.frame.DataFrame'>\n",
      "RangeIndex: 73426 entries, 0 to 73425\n",
      "Data columns (total 7 columns):\n",
      " #   Column              Non-Null Count  Dtype         \n",
      "---  ------              --------------  -----         \n",
      " 0   Departing_Port      73426 non-null  object        \n",
      " 1   Arriving_Port       73426 non-null  object        \n",
      " 2   Airline             73426 non-null  object        \n",
      " 3   Month_Start         73426 non-null  datetime64[ns]\n",
      " 4   Flights             73426 non-null  int64         \n",
      " 5   Departures_Delayed  73421 non-null  float64       \n",
      " 6   Arrivals_Delayed    73426 non-null  float64       \n",
      "dtypes: datetime64[ns](1), float64(2), int64(1), object(3)\n",
      "memory usage: 3.9+ MB\n",
      "None\n"
     ]
    }
   ],
   "source": [
    "print(df.info())"
   ]
  },
  {
   "cell_type": "code",
   "execution_count": 30,
   "metadata": {},
   "outputs": [
    {
     "name": "stdout",
     "output_type": "stream",
     "text": [
      "Departing_Port        0\n",
      "Arriving_Port         0\n",
      "Airline               0\n",
      "Month_Start           0\n",
      "Flights               0\n",
      "Departures_Delayed    5\n",
      "Arrivals_Delayed      0\n",
      "dtype: int64\n"
     ]
    }
   ],
   "source": [
    "print(df.isnull().sum())"
   ]
  },
  {
   "cell_type": "code",
   "execution_count": 31,
   "metadata": {},
   "outputs": [
    {
     "name": "stdout",
     "output_type": "stream",
     "text": [
      "      Departing_Port   Arriving_Port  Airline Month_Start  Flights  \\\n",
      "3098       Melbourne          Hobart  Jetstar  2005-04-01      150   \n",
      "3099       Melbourne      Launceston  Jetstar  2005-04-01      120   \n",
      "3101       Melbourne  Sunshine Coast  Jetstar  2005-04-01       60   \n",
      "9753          Sydney      Launceston  Jetstar  2007-09-01       30   \n",
      "10011      Melbourne          Cairns   Qantas  2007-10-01       31   \n",
      "\n",
      "       Departures_Delayed  Arrivals_Delayed  \n",
      "3098                  NaN              24.0  \n",
      "3099                  NaN              13.0  \n",
      "3101                  NaN               5.0  \n",
      "9753                  NaN               2.0  \n",
      "10011                 NaN               2.0  \n"
     ]
    }
   ],
   "source": [
    "print(df[df.isnull().any(axis=1)])"
   ]
  },
  {
   "cell_type": "code",
   "execution_count": 32,
   "metadata": {},
   "outputs": [
    {
     "name": "stdout",
     "output_type": "stream",
     "text": [
      "Date range: 2004-01-01 00:00:00-2023-06-01 00:00:00\n"
     ]
    }
   ],
   "source": [
    "earliest = df['Month_Start'].min()\n",
    "latest = df['Month_Start'].max()\n",
    "\n",
    "print(f\"Date range: {earliest}-{latest}\")"
   ]
  },
  {
   "cell_type": "code",
   "execution_count": 33,
   "metadata": {},
   "outputs": [
    {
     "name": "stdout",
     "output_type": "stream",
     "text": [
      "['Adelaide' 'Alice Springs' 'Brisbane' 'Broome' 'Cairns' 'Canberra'\n",
      " 'Darwin' 'Gold Coast' 'Kalgoorlie' 'Melbourne' 'Perth' 'Sydney'\n",
      " 'Townsville' 'Albury' 'Burnie' 'Coffs Harbour' 'Devonport' 'Dubbo'\n",
      " 'Hobart' 'Launceston' 'Mackay' 'Mildura' 'Rockhampton' 'Sunshine Coast'\n",
      " 'Wagga Wagga' 'Proserpine' 'Newcastle' 'Ballina' 'Karratha'\n",
      " 'Hamilton Island' 'Hervey Bay' 'Port Hedland' 'Port Lincoln'\n",
      " 'Port Macquarie' 'Newman' 'Ayers Rock' 'Gladstone' 'Geraldton' 'Emerald'\n",
      " 'Mount Isa' 'Bundaberg' 'Moranbah' 'Armidale' 'Tamworth']\n"
     ]
    }
   ],
   "source": [
    "ports = pd.concat([df['Departing_Port'], df['Arriving_Port']])\n",
    "print(ports.unique())"
   ]
  },
  {
   "cell_type": "code",
   "execution_count": 34,
   "metadata": {},
   "outputs": [
    {
     "name": "stdout",
     "output_type": "stream",
     "text": [
      "['Qantas' 'QantasLink' 'Regional Express' 'Skywest' 'Virgin Australia'\n",
      " 'Jetstar' 'Ozjet' 'Tigerair Australia'\n",
      " 'Virgin Australia - ATR/F100 Operations'\n",
      " 'Virgin Australia Regional Airlines' 'Rex Airlines']\n"
     ]
    }
   ],
   "source": [
    "print(df['Airline'].unique())"
   ]
  },
  {
   "cell_type": "code",
   "execution_count": 35,
   "metadata": {},
   "outputs": [
    {
     "name": "stdout",
     "output_type": "stream",
     "text": [
      "  Departing_Port Arriving_Port Airline Month_Start  Flights  \\\n",
      "0       Adelaide      Brisbane  Qantas  2004-01-01       93   \n",
      "1       Adelaide      Canberra  Qantas  2004-01-01       48   \n",
      "2       Adelaide    Gold Coast  Qantas  2004-01-01        9   \n",
      "3       Adelaide     Melbourne  Qantas  2004-01-01      350   \n",
      "4       Adelaide         Perth  Qantas  2004-01-01      130   \n",
      "\n",
      "   Departures_Delayed  Arrivals_Delayed  Year    Month  \n",
      "0                12.0               8.0  2004  January  \n",
      "1                 3.0               3.0  2004  January  \n",
      "2                 1.0               1.0  2004  January  \n",
      "3                33.0              25.0  2004  January  \n",
      "4                 9.0               5.0  2004  January  "
     ]
    },
    {
     "name": "stdout",
     "output_type": "stream",
     "text": [
      "\n"
     ]
    }
   ],
   "source": [
    "df['Year'] = df['Month_Start'].dt.year\n",
    "df['Month'] = df['Month_Start'].dt.month_name()\n",
    "print(df.head())"
   ]
  },
  {
   "cell_type": "code",
   "execution_count": 39,
   "metadata": {},
   "outputs": [
    {
     "name": "stdout",
     "output_type": "stream",
     "text": [
      "      City1          City2   Month  Passenger_Trips  Aircraft_Trips  \\\n",
      "0  ADELAIDE  ALICE SPRINGS  Jan-84            15743             143   \n",
      "1  ADELAIDE       BRISBANE  Jan-84             3781              32   \n",
      "2  ADELAIDE       CANBERRA  Jan-84             1339              12   \n",
      "3  ADELAIDE         DARWIN  Jan-84             3050              33   \n",
      "4  ADELAIDE     GOLD COAST  Jan-84             1596              16   \n",
      "\n",
      "   Route_Distance  Seats  \n",
      "0            1316  19246  \n",
      "1            1622   4210  \n",
      "2             972   1414  \n",
      "3            2619   4566  \n",
      "4            1607   1803  \n"
     ]
    }
   ],
   "source": [
    "df_2 = pd.read_csv(\"data/domestic_flights.csv\")\n",
    "print(df_2.head())"
   ]
  },
  {
   "cell_type": "code",
   "execution_count": null,
   "metadata": {},
   "outputs": [],
   "source": []
  }
 ],
 "metadata": {
  "kernelspec": {
   "display_name": ".venv",
   "language": "python",
   "name": "python3"
  },
  "language_info": {
   "codemirror_mode": {
    "name": "ipython",
    "version": 3
   },
   "file_extension": ".py",
   "mimetype": "text/x-python",
   "name": "python",
   "nbconvert_exporter": "python",
   "pygments_lexer": "ipython3",
   "version": "3.9.21"
  }
 },
 "nbformat": 4,
 "nbformat_minor": 2
}
